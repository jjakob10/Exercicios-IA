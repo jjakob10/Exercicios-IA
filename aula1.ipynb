{
 "cells": [
  {
   "cell_type": "markdown",
   "id": "8b209c4c",
   "metadata": {},
   "source": [
    "# Questão 1"
   ]
  },
  {
   "cell_type": "code",
   "execution_count": 10,
   "id": "36a2ea26",
   "metadata": {},
   "outputs": [],
   "source": [
    "def step(state):\n",
    "    return[state +[0],state+[1]]"
   ]
  },
  {
   "cell_type": "code",
   "execution_count": 13,
   "id": "ecb8c754",
   "metadata": {},
   "outputs": [
    {
     "name": "stdout",
     "output_type": "stream",
     "text": [
      "[[0], [1]]\n",
      "[[0, 1, 0], [0, 1, 1]]\n"
     ]
    }
   ],
   "source": [
    "print(step([]))\n",
    "print(step([0,1]))"
   ]
  },
  {
   "cell_type": "markdown",
   "id": "6d4823d4",
   "metadata": {},
   "source": [
    "# Questão 2"
   ]
  },
  {
   "cell_type": "code",
   "execution_count": 17,
   "id": "2aa362d2",
   "metadata": {},
   "outputs": [],
   "source": [
    "def expand(mat):\n",
    "    if len(mat) == 0:\n",
    "        return step(mat)\n",
    "    acc = []\n",
    "    for x in mat:\n",
    "        acc.extend(step(x))\n",
    "    return acc"
   ]
  },
  {
   "cell_type": "code",
   "execution_count": 21,
   "id": "4399df9c",
   "metadata": {},
   "outputs": [
    {
     "name": "stdout",
     "output_type": "stream",
     "text": [
      "[[0], [1]]\n",
      "[[0, 0], [0, 1], [1, 0], [1, 1]]\n",
      "[[1, 0, 1, 0], [1, 0, 1, 1]]\n"
     ]
    }
   ],
   "source": [
    "print(expand([]))\n",
    "print(expand([[0],[1]]))\n",
    "print(expand ([[1,0,1]]))"
   ]
  },
  {
   "cell_type": "markdown",
   "id": "3e775df3",
   "metadata": {},
   "source": [
    "# Questão 3"
   ]
  },
  {
   "cell_type": "code",
   "execution_count": 22,
   "id": "797aa8a0",
   "metadata": {},
   "outputs": [],
   "source": [
    "def combine(n):\n",
    "    if n == 0:\n",
    "        return []\n",
    "    return expand(combine(n-1))"
   ]
  },
  {
   "cell_type": "code",
   "execution_count": 23,
   "id": "2fc82133",
   "metadata": {},
   "outputs": [
    {
     "name": "stdout",
     "output_type": "stream",
     "text": [
      "[[0, 0, 0], [0, 0, 1], [0, 1, 0], [0, 1, 1], [1, 0, 0], [1, 0, 1], [1, 1, 0], [1, 1, 1]]\n"
     ]
    }
   ],
   "source": [
    "print(combine(3))"
   ]
  },
  {
   "cell_type": "markdown",
   "id": "d3c87cc3",
   "metadata": {},
   "source": [
    "# Questão 4"
   ]
  },
  {
   "cell_type": "code",
   "execution_count": 29,
   "id": "c6b87b42",
   "metadata": {},
   "outputs": [],
   "source": [
    "def size(state, arr):\n",
    "    return sum(x*y for x,y in zip(state,arr))\n",
    "        "
   ]
  },
  {
   "cell_type": "code",
   "execution_count": 28,
   "id": "08b14a4f",
   "metadata": {},
   "outputs": [
    {
     "name": "stdout",
     "output_type": "stream",
     "text": [
      "0\n",
      "0\n",
      "5\n",
      "12\n"
     ]
    }
   ],
   "source": [
    "print(size ([],[]))\n",
    "print(size ([0, 0, 0], [1, 7, 4]))\n",
    "print(size ([1, 0, 1], [1, 7, 4]))\n",
    "print(size ([1, 1, 1], [1, 7, 4]))"
   ]
  },
  {
   "cell_type": "markdown",
   "id": "b19e2131",
   "metadata": {},
   "source": [
    "# Questão 5"
   ]
  },
  {
   "cell_type": "code",
   "execution_count": 32,
   "id": "18b3e939",
   "metadata": {},
   "outputs": [],
   "source": [
    "def valid(state, arr, value):\n",
    "    return size(state, arr) <= value"
   ]
  },
  {
   "cell_type": "code",
   "execution_count": 33,
   "id": "846257e1",
   "metadata": {},
   "outputs": [
    {
     "name": "stdout",
     "output_type": "stream",
     "text": [
      "True\n",
      "False\n"
     ]
    }
   ],
   "source": [
    "print(valid ([1, 0, 1], [1, 7, 4], 8))\n",
    "print(valid ([1, 0, 1], [1, 7, 4], 2))"
   ]
  },
  {
   "cell_type": "markdown",
   "id": "de289104",
   "metadata": {},
   "source": [
    "# Questão 6"
   ]
  },
  {
   "cell_type": "code",
   "execution_count": 40,
   "id": "1a6a72ec",
   "metadata": {},
   "outputs": [],
   "source": [
    "def solution(state, arr):\n",
    "#    return list(filter(lambda x: x[0] == 1,zip(state,arr)))\n",
    "    return [y for x,y in zip(state, arr) if x ==1]"
   ]
  },
  {
   "cell_type": "code",
   "execution_count": 41,
   "id": "8288a23c",
   "metadata": {},
   "outputs": [
    {
     "name": "stdout",
     "output_type": "stream",
     "text": [
      "[]\n",
      "[4]\n",
      "[1, 4]\n"
     ]
    }
   ],
   "source": [
    "print(solution([0, 0, 0], [1, 7, 4]))  # Esperado: []\n",
    "print(solution([0, 0, 1], [1, 7, 4]))  # Esperado: [4]\n",
    "print(solution([1, 0, 1], [1, 7, 4]))  # Esperado: [1, 4]"
   ]
  },
  {
   "cell_type": "markdown",
   "id": "7482d4b0",
   "metadata": {},
   "source": [
    "# Questão 7"
   ]
  },
  {
   "cell_type": "code",
   "execution_count": 43,
   "id": "8ca132cc",
   "metadata": {},
   "outputs": [],
   "source": [
    "def blindSearchKnapsack01(cap, itens):\n",
    "    comb = combine(len(itens))\n",
    "    sol = []\n",
    "    for c in comb:\n",
    "        if valid(c, itens,cap):\n",
    "            sol.append((solution(c,itens), size(c,itens)))\n",
    "            \n",
    "    return sol\n",
    "        \n",
    "    "
   ]
  },
  {
   "cell_type": "code",
   "execution_count": 45,
   "id": "03ba7e71",
   "metadata": {},
   "outputs": [
    {
     "name": "stdout",
     "output_type": "stream",
     "text": [
      "[([], 0), ([1], 1)]\n",
      "[([], 0), ([8], 8), ([7], 7), ([1], 1), ([1, 7], 8)]\n"
     ]
    }
   ],
   "source": [
    "print(blindSearchKnapsack01 (3, [1, 7, 8]))\n",
    "print(blindSearchKnapsack01 (8, [1, 7, 8]))"
   ]
  },
  {
   "cell_type": "markdown",
   "id": "648388c4",
   "metadata": {},
   "source": [
    "# Questão 8"
   ]
  },
  {
   "cell_type": "code",
   "execution_count": 59,
   "id": "0f2ddfa5",
   "metadata": {},
   "outputs": [],
   "source": [
    "def blindSearchKnapsack01Max(cap, itens):\n",
    "    l= blindSearchKnapsack01(cap, itens)\n",
    "    l.sort(key=lambda x: x[1])\n",
    "    return [x for x in l if x[1] == l[-1][1]]"
   ]
  },
  {
   "cell_type": "code",
   "execution_count": 60,
   "id": "23b30928",
   "metadata": {},
   "outputs": [
    {
     "name": "stdout",
     "output_type": "stream",
     "text": [
      "[([1, 7], 8)]\n",
      "[([8], 8), ([1, 7], 8)]\n"
     ]
    }
   ],
   "source": [
    "print(blindSearchKnapsack01Max (8, [1, 7, 4]))\n",
    "print(blindSearchKnapsack01Max (8, [1, 7, 8]))"
   ]
  }
 ],
 "metadata": {
  "kernelspec": {
   "display_name": "env",
   "language": "python",
   "name": "python3"
  },
  "language_info": {
   "codemirror_mode": {
    "name": "ipython",
    "version": 3
   },
   "file_extension": ".py",
   "mimetype": "text/x-python",
   "name": "python",
   "nbconvert_exporter": "python",
   "pygments_lexer": "ipython3",
   "version": "3.12.3"
  }
 },
 "nbformat": 4,
 "nbformat_minor": 5
}
